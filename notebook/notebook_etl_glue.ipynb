{
 "cells": [
  {
   "cell_type": "code",
   "execution_count": null,
   "id": "a46864bd",
   "metadata": {},
   "outputs": [],
   "source": [
    "from pyspark.sql import SparkSession\n",
    "from pyspark.sql import functions as sf\n",
    "from pyspark.sql.types import *\n",
    "spark = SparkSession.builder.getOrCreate()"
   ]
  },
  {
   "cell_type": "code",
   "execution_count": null,
   "id": "4c076e53",
   "metadata": {},
   "outputs": [],
   "source": [
    "df = spark.read.parquet(r\"data\\\\tbl_raw_bovespa\\\\year=2025\\\\month=07\\\\day=14\\\\b56f25e1f97d4624a37e3a52cf76e99e.snappy.parquet\")"
   ]
  },
  {
   "cell_type": "code",
   "execution_count": 7,
   "id": "e7c5ca28",
   "metadata": {},
   "outputs": [
    {
     "name": "stdout",
     "output_type": "stream",
     "text": [
      "root\n",
      " |-- page_pageNumber: long (nullable = true)\n",
      " |-- page_pageSize: long (nullable = true)\n",
      " |-- page_totalRecords: long (nullable = true)\n",
      " |-- page_totalPages: long (nullable = true)\n",
      " |-- header_date: string (nullable = true)\n",
      " |-- header_text: string (nullable = true)\n",
      " |-- header_part: string (nullable = true)\n",
      " |-- header_partAcum: string (nullable = true)\n",
      " |-- header_textReductor: string (nullable = true)\n",
      " |-- header_reductor: string (nullable = true)\n",
      " |-- header_theoricalQty: string (nullable = true)\n",
      " |-- results_segment: string (nullable = true)\n",
      " |-- results_cod: string (nullable = true)\n",
      " |-- results_asset: string (nullable = true)\n",
      " |-- results_type: string (nullable = true)\n",
      " |-- results_part: string (nullable = true)\n",
      " |-- results_partAcum: string (nullable = true)\n",
      " |-- results_theoricalQty: string (nullable = true)\n",
      "\n"
     ]
    }
   ],
   "source": [
    "df.printSchema()"
   ]
  },
  {
   "cell_type": "code",
   "execution_count": 8,
   "id": "2f30895c",
   "metadata": {},
   "outputs": [
    {
     "name": "stdout",
     "output_type": "stream",
     "text": [
      "+---------------+-------------+-----------------+---------------+-----------+------------------------+-----------+---------------+-------------------+-------------------+-------------------+---------------------------+-----------+-------------+------------+------------+----------------+--------------------+\n",
      "|page_pageNumber|page_pageSize|page_totalRecords|page_totalPages|header_date|header_text             |header_part|header_partAcum|header_textReductor|header_reductor    |header_theoricalQty|results_segment            |results_cod|results_asset|results_type|results_part|results_partAcum|results_theoricalQty|\n",
      "+---------------+-------------+-----------------+---------------+-----------+------------------------+-----------+---------------+-------------------+-------------------+-------------------+---------------------------+-----------+-------------+------------+------------+----------------+--------------------+\n",
      "|1              |120          |84               |1              |14/07/25   |Quantidade Teórica Total|100,000    |100,000        |Redutor            |15.438.607,05630450|91.922.324.640     |Bens Indls / Máqs e Equips |WEGE3      |WEG          |ON      NM  |2,802       |2,802           |1.482.105.837       |\n",
      "|1              |120          |84               |1              |14/07/25   |Quantidade Teórica Total|100,000    |100,000        |Redutor            |15.438.607,05630450|91.922.324.640     |Bens Indls / Mat Transporte|EMBR3      |EMBRAER      |ON      NM  |2,596       |2,850           |734.631.701         |\n",
      "|1              |120          |84               |1              |14/07/25   |Quantidade Teórica Total|100,000    |100,000        |Redutor            |15.438.607,05630450|91.922.324.640     |Bens Indls / Mat Transporte|POMO4      |MARCOPOLO    |PN      N2  |0,254       |2,850           |666.378.439         |\n",
      "|1              |120          |84               |1              |14/07/25   |Quantidade Teórica Total|100,000    |100,000        |Redutor            |15.438.607,05630450|91.922.324.640     |Bens Indls/Transporte      |MOTV3      |MOTIVA SA    |ON      NM  |0,610       |1,870           |991.920.937         |\n",
      "|1              |120          |84               |1              |14/07/25   |Quantidade Teórica Total|100,000    |100,000        |Redutor            |15.438.607,05630450|91.922.324.640     |Bens Indls/Transporte      |RAIL3      |RUMO S.A.    |ON      NM  |0,991       |1,870           |1.216.914.397       |\n",
      "+---------------+-------------+-----------------+---------------+-----------+------------------------+-----------+---------------+-------------------+-------------------+-------------------+---------------------------+-----------+-------------+------------+------------+----------------+--------------------+\n",
      "only showing top 5 rows\n"
     ]
    }
   ],
   "source": [
    "df.show(n=5, truncate=False)"
   ]
  },
  {
   "cell_type": "code",
   "execution_count": 9,
   "id": "3f9c1a5d",
   "metadata": {},
   "outputs": [],
   "source": [
    "df = df.drop(\"page_pageNumber\",\"page_pageSize\",\"page_totalRecords\",\"page_totalPages\",\"header_text\" ,\"header_part\",\"header_partAcum\",\"header_textReductor\",\"header_reductor\",\"header_theoricalQty\") \\\n",
    "    .drop_duplicates() \\\n",
    "    .na.drop() \\\n",
    "    .withColumnsRenamed({\n",
    "        \"results_segment\": \"nom_setor\",\n",
    "        \"results_asset\": \"nom_empresa\",\n",
    "        \"results_cod\": \"cod_acao\",\n",
    "        \"results_type\" : \"des_tipo_acao\",\n",
    "        \"results_theoricalQty\": \"qtd_teorica\",\n",
    "        \"results_part\": \"perc_participacao_setor\",\n",
    "        \"results_partAcum\": \"perc_participacao_setor_acumulada\",\n",
    "        \"header_date\": \"data_ref\"\n",
    "    }) \\\n",
    "    .withColumn(\"nom_setor\", sf.trim(\"nom_setor\")) \\\n",
    "    .withColumn(\"nom_empresa\", sf.trim(\"nom_empresa\")) \\\n",
    "    .withColumn(\"cod_acao\", sf.trim(\"cod_acao\")) \\\n",
    "    .withColumn(\"des_tipo_acao\", sf.trim(\"des_tipo_acao\")) \\\n",
    "    .withColumn(\"perc_participacao_setor\",sf.regexp_replace(\"perc_participacao_setor\", \",\", \".\").cast(\"decimal(5,3)\")) \\\n",
    "    .withColumn(\"perc_participacao_setor_acumulada\",sf.regexp_replace(\"perc_participacao_setor_acumulada\", \",\", \".\").cast(\"decimal(5,3)\")) \\\n",
    "    .withColumn(\"qtd_teorica\", sf.regexp_replace(\"qtd_teorica\", \"[. ]\", \"\").cast(\"bigint\")) \\\n",
    "    .withColumn(\"data_ref\", sf.to_date(\"data_ref\", \"dd/MM/yy\")) \\\n",
    "    .withColumn(\"year\", sf.year(\"data_ref\")) \\\n",
    "    .withColumn(\"month\", sf.month(\"data_ref\")) \\\n",
    "    .withColumn(\"day\", sf.day(\"data_ref\")) \\\n",
    "    .select(\n",
    "        *[\n",
    "            \"nom_setor\",\n",
    "            \"nom_empresa\",\n",
    "            \"cod_acao\",\n",
    "            \"des_tipo_acao\",\n",
    "            \"qtd_teorica\",\n",
    "            \"perc_participacao_setor\",\n",
    "            \"perc_participacao_setor_acumulada\",\n",
    "            \"data_ref\",\n",
    "            \"year\",\n",
    "            \"month\",\n",
    "            \"day\"\n",
    "        ]\n",
    "    )"
   ]
  },
  {
   "cell_type": "code",
   "execution_count": null,
   "id": "fdadb5ca",
   "metadata": {},
   "outputs": [
    {
     "name": "stdout",
     "output_type": "stream",
     "text": [
      "+---------------------------------+------------+--------+-------------+-----------+-----------------------+---------------------------------+----------+----+-----+---+\n",
      "|nom_setor                        |nom_empresa |cod_acao|des_tipo_acao|qtd_teorica|perc_participacao_setor|perc_participacao_setor_acumulada|data_ref  |year|month|day|\n",
      "+---------------------------------+------------+--------+-------------+-----------+-----------------------+---------------------------------+----------+----+-----+---+\n",
      "|Cons N Cíclico / Pr Pessoal Limp |NATURA      |NATU3   |ON      NM   |845713747  |0.394                  |0.394                            |2025-07-14|2025|7    |14 |\n",
      "|Telecomunicação                  |TELEF BRASIL|VIVT3   |ON           |764884256  |1.168                  |1.980                            |2025-07-14|2025|7    |14 |\n",
      "|Cons N Ciclico/Agropecuária      |SLC AGRICOLA|SLCE3   |ON      NM   |194261422  |0.168                  |0.168                            |2025-07-14|2025|7    |14 |\n",
      "|Consumo Cíclico / Tecid Vest Calç|VIVARA S.A. |VIVA3   |ON      NM   |123160591  |0.149                  |0.149                            |2025-07-14|2025|7    |14 |\n",
      "|Saúde/SM Hosp An.Diag            |HAPVIDA     |HAPV3   |ON      NM   |311217208  |0.478                  |2.566                            |2025-07-14|2025|7    |14 |\n",
      "+---------------------------------+------------+--------+-------------+-----------+-----------------------+---------------------------------+----------+----+-----+---+\n",
      "only showing top 5 rows\n"
     ]
    }
   ],
   "source": [
    "df.show(n=5, truncate=False)"
   ]
  },
  {
   "cell_type": "code",
   "execution_count": 32,
   "id": "3054dc18",
   "metadata": {},
   "outputs": [
    {
     "name": "stdout",
     "output_type": "stream",
     "text": [
      "+------------+-------------+--------+--------------+---------------------+---------------+---------------+----------------------------+--------------------------------------+----------+---------------------+---------------+----+-----+---+--------------------+\n",
      "| nom_empresa|qtd_registros|qtd_acao|qtd_tipos_acao|qtd_teorica_acumulada|qtd_teorica_max|qtd_teorica_min|avg_participacao_setor_total|avg_participacao_setor_acumulada_total|  data_ref|dth_etl_processamento|qtd_dias_atraso|year|month|day|           nom_setor|\n",
      "+------------+-------------+--------+--------------+---------------------+---------------+---------------+----------------------------+--------------------------------------+----------+---------------------+---------------+----+-----+---+--------------------+\n",
      "|  YDUQS PART|            1|       1|             1|            260249057|      260249057|      260249057|                   0.1720000|                             2.1650000|2025-07-14| 2025-07-12 16:16:...|              2|2025|    7| 14|            Diversos|\n",
      "|TELEF BRASIL|            1|       1|             1|            764884256|      764884256|      764884256|                   1.1680000|                             1.9800000|2025-07-14| 2025-07-12 16:16:...|              2|2025|    7| 14|     Telecomunicação|\n",
      "| SUZANO S.A.|            1|       1|             1|            630821784|      630821784|      630821784|                   1.4980000|                             2.1740000|2025-07-14| 2025-07-12 16:16:...|              2|2025|    7| 14|Mats Básicos / Ma...|\n",
      "|  CVC BRASIL|            1|       1|             1|            450926127|      450926127|      450926127|                   0.0500000|                             0.4030000|2025-07-14| 2025-07-12 16:16:...|              2|2025|    7| 14|         Total Geral|\n",
      "|CPFL ENERGIA|            1|       1|             1|            187732538|      187732538|      187732538|                   0.3400000|                            11.5440000|2025-07-14| 2025-07-12 16:16:...|              2|2025|    7| 14|Utilidade Públ / ...|\n",
      "|         WEG|            1|       1|             1|           1482105837|     1482105837|     1482105837|                   2.8020000|                             2.8020000|2025-07-14| 2025-07-12 16:16:...|              2|2025|    7| 14|Bens Indls / Máqs...|\n",
      "|   SMART FIT|            1|       1|             1|            328547988|      328547988|      328547988|                   0.3530000|                             0.4030000|2025-07-14| 2025-07-12 16:16:...|              2|2025|    7| 14|Consumo Cíclico/V...|\n",
      "|    BRADESCO|            2|       2|             2|           6580747001|     5111682020|     1469064981|                   2.4340000|                            18.6070000|2025-07-14| 2025-07-12 16:16:...|              2|2025|    7| 14|Financ e Outros /...|\n",
      "|CAIXA SEGURI|            1|       1|             1|            600000000|      600000000|      600000000|                   0.4110000|                             2.1070000|2025-07-14| 2025-07-12 16:16:...|              2|2025|    7| 14|Financ e Outros /...|\n",
      "|    LOCALIZA|            1|       1|             1|            956264719|      956264719|      956264719|                   1.6670000|                             2.1650000|2025-07-14| 2025-07-12 16:16:...|              2|2025|    7| 14|         Total Geral|\n",
      "|SLC AGRICOLA|            1|       1|             1|            194261422|      194261422|      194261422|                   0.1680000|                             0.1680000|2025-07-14| 2025-07-12 16:16:...|              2|2025|    7| 14|         Total Geral|\n",
      "|    ENERGISA|            1|       1|             1|            326175300|      326175300|      326175300|                   0.7100000|                            11.5440000|2025-07-14| 2025-07-12 16:16:...|              2|2025|    7| 14|Utilidade Públ / ...|\n",
      "|       AUREN|            1|       1|             1|            323738747|      323738747|      323738747|                   0.1400000|                            11.5440000|2025-07-14| 2025-07-12 16:16:...|              2|2025|    7| 14|         Total Geral|\n",
      "| VIVARA S.A.|            1|       1|             1|            123160591|      123160591|      123160591|                   0.1490000|                             0.1490000|2025-07-14| 2025-07-12 16:16:...|              2|2025|    7| 14|         Total Geral|\n",
      "|    USIMINAS|            1|       1|             1|            515193199|      515193199|      515193199|                   0.1050000|                             1.7040000|2025-07-14| 2025-07-12 16:16:...|              2|2025|    7| 14|Mats Básicos / Si...|\n",
      "|CAIXA SEGURI|            1|       1|             1|            600000000|      600000000|      600000000|                   0.4110000|                             2.1070000|2025-07-14| 2025-07-12 16:16:...|              2|2025|    7| 14|         Total Geral|\n",
      "|  KLABIN S/A|            1|       1|             1|            765785673|      765785673|      765785673|                   0.6760000|                             2.1740000|2025-07-14| 2025-07-12 16:16:...|              2|2025|    7| 14|         Total Geral|\n",
      "|    PETRORIO|            1|       1|             1|            779999989|      779999989|      779999989|                   1.5850000|                            16.2380000|2025-07-14| 2025-07-12 16:16:...|              2|2025|    7| 14|         Total Geral|\n",
      "|  SANTOS BRP|            1|       1|             1|            409543219|      409543219|      409543219|                   0.2690000|                             1.8700000|2025-07-14| 2025-07-12 16:16:...|              2|2025|    7| 14|Bens Indls/Transp...|\n",
      "|      HYPERA|            1|       1|             1|            360057207|      360057207|      360057207|                   0.4630000|                             1.3130000|2025-07-14| 2025-07-12 16:16:...|              2|2025|    7| 14|Saúde/Comércio Di...|\n",
      "+------------+-------------+--------+--------------+---------------------+---------------+---------------+----------------------------+--------------------------------------+----------+---------------------+---------------+----+-----+---+--------------------+\n",
      "only showing top 20 rows\n"
     ]
    }
   ],
   "source": [
    "df.groupingSets(\n",
    "    [   \n",
    "        (\"nom_setor\",\"nom_empresa\",\"data_ref\",\"year\",\"month\",\"day\"), \n",
    "        (\"nom_empresa\",\"data_ref\",\"year\",\"month\",\"day\"), \n",
    "        (\"data_ref\",\"year\",\"month\",\"day\"), \n",
    "     ],\n",
    "    \"nom_setor\",\"nom_empresa\",\"data_ref\",\"year\",\"month\",\"day\"\n",
    ").agg(\n",
    "        sf.count(sf.col(\"cod_acao\")).alias(\"qtd_registros\"),\n",
    "        sf.count_distinct(sf.col(\"cod_acao\")).alias(\"qtd_acao\"),\n",
    "        sf.count_distinct(sf.col(\"des_tipo_acao\")).alias(\"qtd_tipos_acao\"),\n",
    "        sf.sum(sf.col(\"qtd_teorica\")).alias(\"qtd_teorica_acumulada\"),\n",
    "        sf.max(sf.col(\"qtd_teorica\")).alias(\"qtd_teorica_max\"),\n",
    "        sf.min(sf.col(\"qtd_teorica\")).alias(\"qtd_teorica_min\"),\n",
    "        sf.avg(sf.col(\"perc_participacao_setor\")).alias(\"avg_participacao_setor_total\"),\n",
    "        sf.avg(sf.col(\"perc_participacao_setor_acumulada\")).alias(\"avg_participacao_setor_acumulada_total\")\n",
    ") \\\n",
    ".withColumn(\"nom_setor\", sf.coalesce(\"nom_setor\", sf.lit(\"Total Geral\"))) \\\n",
    ".withColumn(\"nom_empresa\", sf.coalesce(\"nom_empresa\", sf.lit(\"Total Geral\"))) \\\n",
    ".withColumn(\"dth_etl_processamento\", sf.current_timestamp()) \\\n",
    ".withColumn(\"qtd_dias_atraso\", sf.date_diff(\"data_ref\",\"dth_etl_processamento\")) \\\n",
    ".select(\n",
    "    \"nom_empresa\",\n",
    "    \"qtd_registros\",\n",
    "    \"qtd_acao\",\n",
    "    \"qtd_tipos_acao\",\n",
    "    \"qtd_teorica_acumulada\",\n",
    "    \"qtd_teorica_max\",\n",
    "    \"qtd_teorica_min\",\n",
    "    \"avg_participacao_setor_total\",\n",
    "    \"avg_participacao_setor_acumulada_total\",\n",
    "    \"data_ref\",\n",
    "    \"dth_etl_processamento\",\n",
    "    \"qtd_dias_atraso\",\n",
    "    \"year\",\n",
    "    \"month\",\n",
    "    \"day\",\n",
    "    \"nom_setor\",\n",
    ").show()"
   ]
  }
 ],
 "metadata": {
  "kernelspec": {
   "display_name": "Python 3",
   "language": "python",
   "name": "python3"
  },
  "language_info": {
   "codemirror_mode": {
    "name": "ipython",
    "version": 3
   },
   "file_extension": ".py",
   "mimetype": "text/x-python",
   "name": "python",
   "nbconvert_exporter": "python",
   "pygments_lexer": "ipython3",
   "version": "3.13.5"
  }
 },
 "nbformat": 4,
 "nbformat_minor": 5
}
